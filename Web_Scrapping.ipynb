{
 "cells": [
  {
   "cell_type": "code",
   "execution_count": 26,
   "id": "48a8ebe5-80ca-4745-b8f7-5c09800eb972",
   "metadata": {},
   "outputs": [
    {
     "name": "stdout",
     "output_type": "stream",
     "text": [
      "Albert Einstein\n",
      "“The world as we have created it is a process of our thinking. It cannot be changed without changing our thinking.”\n",
      "tags: \n",
      "\n",
      "J.K. Rowling\n",
      "“It is our choices, Harry, that show what we truly are, far more than our abilities.”\n",
      "tags: \n",
      "\n",
      "Albert Einstein\n",
      "“There are only two ways to live your life. One is as though nothing is a miracle. The other is as though everything is a miracle.”\n",
      "tags: \n",
      "\n",
      "Jane Austen\n",
      "“The person, be it gentleman or lady, who has not pleasure in a good novel, must be intolerably stupid.”\n",
      "tags: \n",
      "\n",
      "Marilyn Monroe\n",
      "“Imperfection is beauty, madness is genius and it's better to be absolutely ridiculous than absolutely boring.”\n",
      "tags: \n",
      "\n",
      "Albert Einstein\n",
      "“Try not to become a man of success. Rather become a man of value.”\n",
      "tags: \n",
      "\n",
      "André Gide\n",
      "“It is better to be hated for what you are than to be loved for what you are not.”\n",
      "tags: \n",
      "\n",
      "Thomas A. Edison\n",
      "“I have not failed. I've just found 10,000 ways that won't work.”\n",
      "tags: \n",
      "\n",
      "Eleanor Roosevelt\n",
      "“A woman is like a tea bag; you never know how strong it is until it's in hot water.”\n",
      "tags: \n",
      "\n",
      "Steve Martin\n",
      "“A day without sunshine is like, you know, night.”\n",
      "tags: \n",
      "\n"
     ]
    }
   ],
   "source": [
    "import requests\n",
    "from bs4 import BeautifulSoup\n",
    "\n",
    "url = \"https://quotes.toscrape.com/\"\n",
    "response = requests.get(url)  # Website ko request kiya URL deke\n",
    "HTML_data = response.text  # Raw HTML data mila\n",
    "\n",
    "# Parse data – raw HTML ko readable format mein badla\n",
    "soup = BeautifulSoup(HTML_data, 'html.parser')\n",
    "\n",
    "# Jo chahiye: saare quotes\n",
    "quotes = soup.find_all(\"span\", class_=\"text\")\n",
    "author = soup.find_all('small', class_='author')\n",
    "tags = soup.find_all('div' , class_='tags')\n",
    "\n",
    "# Print all quotes\n",
    "for quotes,author,tags in zip(quotes,author,tags):\n",
    "    author_text = author.get_text()\n",
    "    quotes_text = quotes.get_text()\n",
    "    tags_list = [t.get_text() for t in tags.find_all('a' , class_='tags')]\n",
    "    \n",
    "   \n",
    "    \n",
    "    print(author_text)\n",
    "    print(quotes_text)\n",
    "    print(f\"tags: {\", \".join(tags_list)}\\n\")\n",
    "    \n"
   ]
  },
  {
   "cell_type": "markdown",
   "id": "11faa71c-fb1a-487a-a5ee-bd1d21fadb89",
   "metadata": {},
   "source": [
    "NOW SAVING DATA FOR REAL WORLD USE"
   ]
  },
  {
   "cell_type": "code",
   "execution_count": null,
   "id": "1fec629f-1e36-4a14-98c8-8b6dc7c5275f",
   "metadata": {},
   "outputs": [],
   "source": []
  },
  {
   "cell_type": "code",
   "execution_count": 31,
   "id": "9ada8ed9-2c3b-4cf1-8a83-96f78db0bdc1",
   "metadata": {},
   "outputs": [
    {
     "name": "stdout",
     "output_type": "stream",
     "text": [
      "Dataframe ready hai bahi\n"
     ]
    }
   ],
   "source": [
    "import pandas as pd\n",
    "data =[]\n",
    "\n",
    "for a , q, t in zip(author,quotes,tags):\n",
    "    tags_list = [t.get_text() for t in tags.find_all('a' , class_='tags')]\n",
    "    data.append({\n",
    "                     'author':a.get_text(),\n",
    "                     'quotes':q.get_text(),\n",
    "                     'tags' : ', '.join(tags_list)\n",
    "                 })\n",
    "    \n",
    "               \n",
    "\n",
    "df = pd.DataFrame(data)\n",
    "df.to_csv(\"quotes.csv\",index = False)\n",
    "print(\"Dataframe ready hai bahi\")\n",
    "    \n",
    "\n"
   ]
  },
  {
   "cell_type": "markdown",
   "id": "c623b68e-d6e2-437c-83cb-263cd926bd7d",
   "metadata": {},
   "source": [
    "\"<a> is like a clickable door. href batata hai door kahan jaata hai. get_text() se pata chalta hai door ke upar kya likha hai.\""
   ]
  }
 ],
 "metadata": {
  "kernelspec": {
   "display_name": "Python 3 (ipykernel)",
   "language": "python",
   "name": "python3"
  },
  "language_info": {
   "codemirror_mode": {
    "name": "ipython",
    "version": 3
   },
   "file_extension": ".py",
   "mimetype": "text/x-python",
   "name": "python",
   "nbconvert_exporter": "python",
   "pygments_lexer": "ipython3",
   "version": "3.13.2"
  }
 },
 "nbformat": 4,
 "nbformat_minor": 5
}
